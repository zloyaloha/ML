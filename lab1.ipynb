{
 "cells": [
  {
   "cell_type": "markdown",
   "id": "ec6e7d18-6a6e-4a51-a7cd-0a1152604973",
   "metadata": {},
   "source": [
    "## Лабораторная работа №1 | Вариант 2"
   ]
  },
  {
   "cell_type": "markdown",
   "id": "277877ce-f982-4711-a6a6-2a4a90871409",
   "metadata": {},
   "source": [
    "Выполнил: Филиппов Владимир Михайлович"
   ]
  },
  {
   "cell_type": "markdown",
   "id": "031f025d-84dc-470f-b839-456a76d9636b",
   "metadata": {},
   "source": [
    "### 1. Numpy"
   ]
  },
  {
   "cell_type": "code",
   "execution_count": 3,
   "id": "8a2c6f8d-e85b-4982-ba6d-77ffdb7d53e8",
   "metadata": {},
   "outputs": [],
   "source": [
    "import numpy as np"
   ]
  },
  {
   "cell_type": "markdown",
   "id": "6ff3559d-5f3e-4540-9a31-bfb9f42a23da",
   "metadata": {},
   "source": [
    "1. Создайте матрицу размером 8х8 и заполните ее шахматным рисунком"
   ]
  },
  {
   "cell_type": "code",
   "execution_count": 4,
   "id": "752bc586-1e3f-4085-85c3-4068b781314f",
   "metadata": {},
   "outputs": [
    {
     "data": {
      "text/plain": [
       "array([[ True, False,  True, False,  True, False,  True, False],\n",
       "       [False,  True, False,  True, False,  True, False,  True],\n",
       "       [ True, False,  True, False,  True, False,  True, False],\n",
       "       [False,  True, False,  True, False,  True, False,  True],\n",
       "       [ True, False,  True, False,  True, False,  True, False],\n",
       "       [False,  True, False,  True, False,  True, False,  True],\n",
       "       [ True, False,  True, False,  True, False,  True, False],\n",
       "       [False,  True, False,  True, False,  True, False,  True]])"
      ]
     },
     "execution_count": 4,
     "metadata": {},
     "output_type": "execute_result"
    }
   ],
   "source": [
    "def chess_order(i, j):\n",
    "    return (i + j) % 2 == 0\n",
    "\n",
    "np.fromfunction(chess_order, (8, 8), dtype=int)\n"
   ]
  },
  {
   "cell_type": "markdown",
   "id": "0243a0f6-1905-4e2d-9572-9ba49dc003a8",
   "metadata": {},
   "source": [
    "2. Каков результат выполнения следующих выражений?\n",
    "\n",
    "```python\n",
    "np.array(0) / np.array(0)\n",
    "np.array(0) // np.array(0)\n",
    "np.array([np.nan]).astype(int).astype(float)\n",
    "```"
   ]
  },
  {
   "cell_type": "code",
   "execution_count": 5,
   "id": "ec6ae581-5adf-459c-bdc7-8b015d9529f6",
   "metadata": {},
   "outputs": [
    {
     "name": "stderr",
     "output_type": "stream",
     "text": [
      "/tmp/ipykernel_1029/1746395532.py:1: RuntimeWarning: invalid value encountered in divide\n",
      "  np.array(0) / np.array(0) # ну типа вернет np.nan вместо исключения (и кинуло ворнинг)\n",
      "/tmp/ipykernel_1029/1746395532.py:2: RuntimeWarning: divide by zero encountered in floor_divide\n",
      "  np.array(0) // np.array(0) # вернет 0 и кинуло ворнинг\n",
      "/tmp/ipykernel_1029/1746395532.py:3: RuntimeWarning: invalid value encountered in cast\n",
      "  np.array([np.nan]).astype(int).astype(float) #ворнинг о неправильном касте + массив заполненный какой-то шляпой\n"
     ]
    },
    {
     "data": {
      "text/plain": [
       "array([-9.22337204e+18])"
      ]
     },
     "execution_count": 5,
     "metadata": {},
     "output_type": "execute_result"
    }
   ],
   "source": [
    "np.array(0) / np.array(0) # ну типа вернет np.nan вместо исключения (и кинуло ворнинг)\n",
    "np.array(0) // np.array(0) # вернет 0 и кинуло ворнинг\n",
    "np.array([np.nan]).astype(int).astype(float) #ворнинг о неправильном касте + массив заполненный какой-то шляпой"
   ]
  },
  {
   "cell_type": "markdown",
   "id": "8c7d3811-a555-4c02-ada8-e4a70b9dee46",
   "metadata": {},
   "source": [
    "3. Создайте матрицу-шахматную доску 8х8 используя функцию `tile`"
   ]
  },
  {
   "cell_type": "code",
   "execution_count": 6,
   "id": "12d0ed34-908c-4840-8b81-457e64dd7b0b",
   "metadata": {},
   "outputs": [
    {
     "data": {
      "text/plain": [
       "array([[1, 0, 1, 0, 1, 0, 1, 0],\n",
       "       [0, 1, 0, 1, 0, 1, 0, 1],\n",
       "       [1, 0, 1, 0, 1, 0, 1, 0],\n",
       "       [0, 1, 0, 1, 0, 1, 0, 1],\n",
       "       [1, 0, 1, 0, 1, 0, 1, 0],\n",
       "       [0, 1, 0, 1, 0, 1, 0, 1],\n",
       "       [1, 0, 1, 0, 1, 0, 1, 0],\n",
       "       [0, 1, 0, 1, 0, 1, 0, 1]])"
      ]
     },
     "execution_count": 6,
     "metadata": {},
     "output_type": "execute_result"
    }
   ],
   "source": [
    "np.tile([[1,0], [0,1]], (4,4))"
   ]
  },
  {
   "cell_type": "markdown",
   "id": "b7ca56e6-a194-4c42-b8a2-307fcf40f648",
   "metadata": {},
   "source": [
    "4. Как округлить до целых массив чисел с плавающей точкой?"
   ]
  },
  {
   "cell_type": "code",
   "execution_count": 7,
   "id": "1b1d64cd-0e28-400f-8d49-a1274947e150",
   "metadata": {},
   "outputs": [
    {
     "data": {
      "text/plain": [
       "array([1, 2, 4])"
      ]
     },
     "execution_count": 7,
     "metadata": {},
     "output_type": "execute_result"
    }
   ],
   "source": [
    "a = np.array([1.1, 2.1, 3.7])\n",
    "np.round(a).astype(int)"
   ]
  },
  {
   "cell_type": "markdown",
   "id": "b3b2cd1e-e996-45e0-b9ed-e12ce653a9c3",
   "metadata": {},
   "source": [
    "5. Как найти общие значения между двумя массивами?"
   ]
  },
  {
   "cell_type": "code",
   "execution_count": 8,
   "id": "c40ef785-d750-42ba-ac6e-b777866202a6",
   "metadata": {},
   "outputs": [
    {
     "data": {
      "text/plain": [
       "array([3])"
      ]
     },
     "execution_count": 8,
     "metadata": {},
     "output_type": "execute_result"
    }
   ],
   "source": [
    "a = np.array([1,2,3])\n",
    "b = np.array([3,4,5])\n",
    "np.intersect1d(a,b)"
   ]
  },
  {
   "cell_type": "markdown",
   "id": "8108b3a8-5ba8-472d-ad6b-095ade8678ef",
   "metadata": {},
   "source": [
    "6. Как вычислить ((A+B)*(-A/2)) на месте (без копирования)?"
   ]
  },
  {
   "cell_type": "code",
   "execution_count": 9,
   "id": "89b58c0a-bd5d-435a-be45-719fdfce662a",
   "metadata": {},
   "outputs": [
    {
     "data": {
      "text/plain": [
       "array([ -2.,  -6., -12.])"
      ]
     },
     "execution_count": 9,
     "metadata": {},
     "output_type": "execute_result"
    }
   ],
   "source": [
    "(a + b) * (-a / 2)\n"
   ]
  },
  {
   "cell_type": "markdown",
   "id": "98511652-db85-4506-a5b8-f94b05d35ce9",
   "metadata": {},
   "source": [
    "7. Рассмотрим случайный вектор с формой 100х2, представляющей координаты, и найдем расстояния от точки к точке"
   ]
  },
  {
   "cell_type": "code",
   "execution_count": 10,
   "id": "ca72cdb0-ed24-460d-81a9-220b850d62c3",
   "metadata": {},
   "outputs": [
    {
     "data": {
      "text/plain": [
       "array([ 86.81589716,  75.80237463, 100.49875621, 113.45483683,\n",
       "        35.73513677,  64.44377394,  12.20655562,  48.66210024,\n",
       "        31.78049716,  83.23460819,  59.8414572 ,  21.        ,\n",
       "        74.6860094 ,  18.38477631,  61.32699243,  61.68468205,\n",
       "        60.87692502,  40.60788101,   7.07106781,  66.09841148,\n",
       "        70.00714249,  37.65634077,  69.4046108 ,  15.55634919,\n",
       "        47.04253395,  70.38465742,  16.55294536,  22.47220505,\n",
       "        23.43074903,  49.92995093,  67.94115101,  43.0464865 ,\n",
       "        40.85339643,  55.78530272,  82.21921916,  65.7951366 ,\n",
       "        93.77099765,  43.65775991,  85.44588931,  32.69556545,\n",
       "        90.02221948, 100.43903624,  99.70456359,  76.94153625,\n",
       "        20.39607805,   8.48528137,  34.6554469 ,  46.5295605 ,\n",
       "        43.9089968 ,  39.56008089,  66.46803743,  43.10452412,\n",
       "        61.22091146,  31.01612484,  55.22680509,  27.51363298,\n",
       "        27.65863337,  58.46366393,  31.38470965,  74.06078585,\n",
       "        23.02172887,  92.84934033,  38.27531842,  62.58594091,\n",
       "        77.17512553,  41.40048309,  26.62705391,  35.12833614,\n",
       "         8.06225775,  29.96664813,  44.20407221,  53.33854141,\n",
       "        33.9705755 ,  36.22154055,  68.02940541,  54.45181356,\n",
       "        65.29931087,  45.18849411,  67.67569726,  29.42787794,\n",
       "        29.27456234,  57.7754273 ,  41.76122604,  13.15294644,\n",
       "        58.24946352,  87.66413178,  37.73592453,  64.5368112 ,\n",
       "       104.44615838,  64.88451279,  70.03570518,  30.6757233 ,\n",
       "        23.02172887,  58.82176468,  18.78829423,  31.6227766 ,\n",
       "        36.05551275,  62.20128616,  40.        ])"
      ]
     },
     "execution_count": 10,
     "metadata": {},
     "output_type": "execute_result"
    }
   ],
   "source": [
    "a = np.random.randint(0,100,(100,2))\n",
    "np.linalg.norm(a[1:]- a[:-1], axis=1)"
   ]
  },
  {
   "cell_type": "markdown",
   "id": "1412a70a-2a1e-406e-a227-afc9a47ed659",
   "metadata": {},
   "source": [
    "8. Как конвертировать массив float(32 bit) к массиву целых чисел (integer 32 bit) in place?"
   ]
  },
  {
   "cell_type": "code",
   "execution_count": 11,
   "id": "22bb8bbf-52dd-4d3c-86c0-c4e9637b909b",
   "metadata": {},
   "outputs": [
    {
     "data": {
      "text/plain": [
       "array([1, 2, 3], dtype=int32)"
      ]
     },
     "execution_count": 11,
     "metadata": {},
     "output_type": "execute_result"
    }
   ],
   "source": [
    "a = np.array([1.,2.,3.])\n",
    "a.astype(np.int32, copy=False) # не уверен, что имеется ввиду, но надеюсь, что это и имеется"
   ]
  },
  {
   "cell_type": "markdown",
   "id": "f7dc66bf-f7c8-4d78-834b-451651f6839a",
   "metadata": {},
   "source": [
    "9. Создайте структурированный массив, представляющий позицию (x, y) и цвет (r, g, b)."
   ]
  },
  {
   "cell_type": "code",
   "execution_count": 12,
   "id": "0ecf5586-d30e-4256-ab93-7ff9bab0b34b",
   "metadata": {},
   "outputs": [
    {
     "data": {
      "text/plain": [
       "array([[140,  35,  52, -48,  -4],\n",
       "       [ 20,   1,  28, -17, -54],\n",
       "       [209, 210, 233,  61,   7],\n",
       "       [233, 187,  60, -39, -15],\n",
       "       [  7, 117,  12, -84,  86],\n",
       "       [242, 238, 235,  78,   3],\n",
       "       [128,  76,  26, -24,  62],\n",
       "       [139, 142, 112, -78, -60],\n",
       "       [158,  26,  42,  99,  22],\n",
       "       [ 90, 218,  34, -46, -87]])"
      ]
     },
     "execution_count": 12,
     "metadata": {},
     "output_type": "execute_result"
    }
   ],
   "source": [
    "color = np.random.randint(0, 256, size=(10, 3))\n",
    "pos = np.random.randint(-100, 100, size=(10, 2))\n",
    "np.column_stack((color, pos))"
   ]
  },
  {
   "cell_type": "markdown",
   "id": "a66194f1-0099-4808-8ebf-5cf10eee5071",
   "metadata": {},
   "source": [
    "10. Какой эквивалент enumerate для numpy массивов?"
   ]
  },
  {
   "cell_type": "code",
   "execution_count": 13,
   "id": "07ed452c-3f7c-40a7-a5b5-716602a5eed9",
   "metadata": {},
   "outputs": [
    {
     "name": "stdout",
     "output_type": "stream",
     "text": [
      "(0, 0) 1\n",
      "(0, 1) 2\n",
      "(0, 2) 3\n",
      "(1, 0) 4\n",
      "(1, 1) 5\n",
      "(1, 2) 6\n"
     ]
    }
   ],
   "source": [
    "arr = np.array([[1, 2, 3], [4, 5, 6]])\n",
    "\n",
    "for idx, value in np.ndenumerate(arr):\n",
    "    print(idx, value)"
   ]
  },
  {
   "cell_type": "markdown",
   "id": "5bd0f757-bb01-4afb-b4f0-6821b5c5b2b7",
   "metadata": {},
   "source": [
    "### 2. Pandas"
   ]
  },
  {
   "cell_type": "markdown",
   "id": "bdffd013-e573-4318-8062-65ae1c5e07e8",
   "metadata": {},
   "source": [
    "Найдите ответы на вопросы или выполните действия с предложенным датасетом \n",
    "\n",
    "Данные о преступлениях, совершенных женщинами в Индии, с демографическими подробностями.\n",
    "\n",
    "Файл: `CrimesOnWomenData.csv`\n",
    "\n",
    "```\n",
    "State - название штата/региона\n",
    "Year - год записи\n",
    "Rape - случаи изнасилования\n",
    "K&A - случаи похищения \n",
    "DD - смерти из-за приданого\n",
    "AoW - нападение на женщин\n",
    "AoM - нападение на женскую скромность(modestity)\n",
    "DV - бытовое насилие\n",
    "WT - торговля женщинами\n",
    "```"
   ]
  },
  {
   "cell_type": "code",
   "execution_count": 14,
   "id": "0778ec2b-a7b2-4738-b771-bb1781986f62",
   "metadata": {},
   "outputs": [],
   "source": [
    "import pandas as pd"
   ]
  },
  {
   "cell_type": "code",
   "execution_count": 15,
   "id": "bfc45614-d44b-49bd-a55c-c410a95a808f",
   "metadata": {},
   "outputs": [
    {
     "data": {
      "text/html": [
       "<div>\n",
       "<style scoped>\n",
       "    .dataframe tbody tr th:only-of-type {\n",
       "        vertical-align: middle;\n",
       "    }\n",
       "\n",
       "    .dataframe tbody tr th {\n",
       "        vertical-align: top;\n",
       "    }\n",
       "\n",
       "    .dataframe thead th {\n",
       "        text-align: right;\n",
       "    }\n",
       "</style>\n",
       "<table border=\"1\" class=\"dataframe\">\n",
       "  <thead>\n",
       "    <tr style=\"text-align: right;\">\n",
       "      <th></th>\n",
       "      <th>Unnamed: 0</th>\n",
       "      <th>State</th>\n",
       "      <th>Year</th>\n",
       "      <th>Rape</th>\n",
       "      <th>K&amp;A</th>\n",
       "      <th>DD</th>\n",
       "      <th>AoW</th>\n",
       "      <th>AoM</th>\n",
       "      <th>DV</th>\n",
       "      <th>WT</th>\n",
       "    </tr>\n",
       "  </thead>\n",
       "  <tbody>\n",
       "    <tr>\n",
       "      <th>0</th>\n",
       "      <td>0</td>\n",
       "      <td>ANDHRA PRADESH</td>\n",
       "      <td>2001</td>\n",
       "      <td>871</td>\n",
       "      <td>765</td>\n",
       "      <td>420</td>\n",
       "      <td>3544</td>\n",
       "      <td>2271</td>\n",
       "      <td>5791</td>\n",
       "      <td>7</td>\n",
       "    </tr>\n",
       "    <tr>\n",
       "      <th>1</th>\n",
       "      <td>1</td>\n",
       "      <td>ARUNACHAL PRADESH</td>\n",
       "      <td>2001</td>\n",
       "      <td>33</td>\n",
       "      <td>55</td>\n",
       "      <td>0</td>\n",
       "      <td>78</td>\n",
       "      <td>3</td>\n",
       "      <td>11</td>\n",
       "      <td>0</td>\n",
       "    </tr>\n",
       "    <tr>\n",
       "      <th>2</th>\n",
       "      <td>2</td>\n",
       "      <td>ASSAM</td>\n",
       "      <td>2001</td>\n",
       "      <td>817</td>\n",
       "      <td>1070</td>\n",
       "      <td>59</td>\n",
       "      <td>850</td>\n",
       "      <td>4</td>\n",
       "      <td>1248</td>\n",
       "      <td>0</td>\n",
       "    </tr>\n",
       "    <tr>\n",
       "      <th>3</th>\n",
       "      <td>3</td>\n",
       "      <td>BIHAR</td>\n",
       "      <td>2001</td>\n",
       "      <td>888</td>\n",
       "      <td>518</td>\n",
       "      <td>859</td>\n",
       "      <td>562</td>\n",
       "      <td>21</td>\n",
       "      <td>1558</td>\n",
       "      <td>83</td>\n",
       "    </tr>\n",
       "    <tr>\n",
       "      <th>4</th>\n",
       "      <td>4</td>\n",
       "      <td>CHHATTISGARH</td>\n",
       "      <td>2001</td>\n",
       "      <td>959</td>\n",
       "      <td>171</td>\n",
       "      <td>70</td>\n",
       "      <td>1763</td>\n",
       "      <td>161</td>\n",
       "      <td>840</td>\n",
       "      <td>0</td>\n",
       "    </tr>\n",
       "  </tbody>\n",
       "</table>\n",
       "</div>"
      ],
      "text/plain": [
       "   Unnamed: 0              State  Year  Rape   K&A   DD   AoW   AoM    DV  WT\n",
       "0           0     ANDHRA PRADESH  2001   871   765  420  3544  2271  5791   7\n",
       "1           1  ARUNACHAL PRADESH  2001    33    55    0    78     3    11   0\n",
       "2           2              ASSAM  2001   817  1070   59   850     4  1248   0\n",
       "3           3              BIHAR  2001   888   518  859   562    21  1558  83\n",
       "4           4       CHHATTISGARH  2001   959   171   70  1763   161   840   0"
      ]
     },
     "execution_count": 15,
     "metadata": {},
     "output_type": "execute_result"
    }
   ],
   "source": [
    "DATA_PATH = \"data/CrimesOnWomenData.csv\"\n",
    "df = pd.read_csv(DATA_PATH)\n",
    "df.head()"
   ]
  },
  {
   "cell_type": "markdown",
   "id": "1026e8c6-513a-41e3-b2f4-68aae18b8435",
   "metadata": {},
   "source": [
    "1. За какие года представлен набор данных?"
   ]
  },
  {
   "cell_type": "code",
   "execution_count": 16,
   "id": "e74655aa-b97c-42e5-b972-e0753ddc2331",
   "metadata": {},
   "outputs": [
    {
     "data": {
      "text/plain": [
       "array([2001, 2002, 2003, 2004, 2005, 2006, 2007, 2008, 2009, 2010, 2011,\n",
       "       2012, 2013, 2014, 2015, 2016, 2017, 2018, 2019, 2020, 2021])"
      ]
     },
     "execution_count": 16,
     "metadata": {},
     "output_type": "execute_result"
    }
   ],
   "source": [
    "df[\"Year\"].unique()"
   ]
  },
  {
   "cell_type": "markdown",
   "id": "eee028a5-9311-4a4f-b4ac-1fb75acfb4b3",
   "metadata": {},
   "source": [
    "2. Выявите район с самым высоким количеством убийств женщин"
   ]
  },
  {
   "cell_type": "code",
   "execution_count": 17,
   "id": "ac0fb641-96d2-4e7c-88d5-636ce3b699d2",
   "metadata": {},
   "outputs": [
    {
     "data": {
      "text/plain": [
       "582    Uttar Pradesh\n",
       "Name: State, dtype: object"
      ]
     },
     "execution_count": 17,
     "metadata": {},
     "output_type": "execute_result"
    }
   ],
   "source": [
    "df[df[\"DD\"] == df['DD'].max()][\"State\"]"
   ]
  },
  {
   "cell_type": "markdown",
   "id": "cd7979ba-2fa8-4fd3-986d-26cee122da1f",
   "metadata": {},
   "source": [
    "3. Какое среднее число изнасилований женщин в индии наблюдалось в указанные года?"
   ]
  },
  {
   "cell_type": "code",
   "execution_count": 18,
   "id": "3915f77b-116c-482b-8644-2f5f11931af9",
   "metadata": {},
   "outputs": [
    {
     "data": {
      "text/html": [
       "<div>\n",
       "<style scoped>\n",
       "    .dataframe tbody tr th:only-of-type {\n",
       "        vertical-align: middle;\n",
       "    }\n",
       "\n",
       "    .dataframe tbody tr th {\n",
       "        vertical-align: top;\n",
       "    }\n",
       "\n",
       "    .dataframe thead th {\n",
       "        text-align: right;\n",
       "    }\n",
       "</style>\n",
       "<table border=\"1\" class=\"dataframe\">\n",
       "  <thead>\n",
       "    <tr style=\"text-align: right;\">\n",
       "      <th></th>\n",
       "      <th>Rape</th>\n",
       "    </tr>\n",
       "    <tr>\n",
       "      <th>Year</th>\n",
       "      <th></th>\n",
       "    </tr>\n",
       "  </thead>\n",
       "  <tbody>\n",
       "    <tr>\n",
       "      <th>2001</th>\n",
       "      <td>461.588235</td>\n",
       "    </tr>\n",
       "    <tr>\n",
       "      <th>2002</th>\n",
       "      <td>469.705882</td>\n",
       "    </tr>\n",
       "    <tr>\n",
       "      <th>2003</th>\n",
       "      <td>451.676471</td>\n",
       "    </tr>\n",
       "    <tr>\n",
       "      <th>2004</th>\n",
       "      <td>520.058824</td>\n",
       "    </tr>\n",
       "    <tr>\n",
       "      <th>2005</th>\n",
       "      <td>520.617647</td>\n",
       "    </tr>\n",
       "    <tr>\n",
       "      <th>2006</th>\n",
       "      <td>550.735294</td>\n",
       "    </tr>\n",
       "    <tr>\n",
       "      <th>2007</th>\n",
       "      <td>592.323529</td>\n",
       "    </tr>\n",
       "    <tr>\n",
       "      <th>2008</th>\n",
       "      <td>617.676471</td>\n",
       "    </tr>\n",
       "    <tr>\n",
       "      <th>2009</th>\n",
       "      <td>615.529412</td>\n",
       "    </tr>\n",
       "    <tr>\n",
       "      <th>2010</th>\n",
       "      <td>637.205882</td>\n",
       "    </tr>\n",
       "    <tr>\n",
       "      <th>2011</th>\n",
       "      <td>672.388889</td>\n",
       "    </tr>\n",
       "    <tr>\n",
       "      <th>2012</th>\n",
       "      <td>692.305556</td>\n",
       "    </tr>\n",
       "    <tr>\n",
       "      <th>2013</th>\n",
       "      <td>936.305556</td>\n",
       "    </tr>\n",
       "    <tr>\n",
       "      <th>2014</th>\n",
       "      <td>1020.416667</td>\n",
       "    </tr>\n",
       "    <tr>\n",
       "      <th>2015</th>\n",
       "      <td>962.527778</td>\n",
       "    </tr>\n",
       "    <tr>\n",
       "      <th>2016</th>\n",
       "      <td>1081.861111</td>\n",
       "    </tr>\n",
       "    <tr>\n",
       "      <th>2017</th>\n",
       "      <td>904.416667</td>\n",
       "    </tr>\n",
       "    <tr>\n",
       "      <th>2018</th>\n",
       "      <td>926.555556</td>\n",
       "    </tr>\n",
       "    <tr>\n",
       "      <th>2019</th>\n",
       "      <td>889.805556</td>\n",
       "    </tr>\n",
       "    <tr>\n",
       "      <th>2020</th>\n",
       "      <td>779.055556</td>\n",
       "    </tr>\n",
       "    <tr>\n",
       "      <th>2021</th>\n",
       "      <td>879.916667</td>\n",
       "    </tr>\n",
       "  </tbody>\n",
       "</table>\n",
       "</div>"
      ],
      "text/plain": [
       "             Rape\n",
       "Year             \n",
       "2001   461.588235\n",
       "2002   469.705882\n",
       "2003   451.676471\n",
       "2004   520.058824\n",
       "2005   520.617647\n",
       "2006   550.735294\n",
       "2007   592.323529\n",
       "2008   617.676471\n",
       "2009   615.529412\n",
       "2010   637.205882\n",
       "2011   672.388889\n",
       "2012   692.305556\n",
       "2013   936.305556\n",
       "2014  1020.416667\n",
       "2015   962.527778\n",
       "2016  1081.861111\n",
       "2017   904.416667\n",
       "2018   926.555556\n",
       "2019   889.805556\n",
       "2020   779.055556\n",
       "2021   879.916667"
      ]
     },
     "execution_count": 18,
     "metadata": {},
     "output_type": "execute_result"
    }
   ],
   "source": [
    "pd.DataFrame(df.groupby(\"Year\")[\"Rape\"].mean()) # avg_rapes = df['Rape'].mean()"
   ]
  },
  {
   "cell_type": "markdown",
   "id": "1b69ba67-61a8-4765-9795-cfab1a09e929",
   "metadata": {},
   "source": [
    "4. Выявите район с минимальным числом похищений за период 2001-2003 года"
   ]
  },
  {
   "cell_type": "code",
   "execution_count": 19,
   "id": "1228d2e9-fc56-4240-95c6-c98a8b84c016",
   "metadata": {},
   "outputs": [
    {
     "data": {
      "text/plain": [
       "K&A    LAKSHADWEEP\n",
       "dtype: object"
      ]
     },
     "execution_count": 19,
     "metadata": {},
     "output_type": "execute_result"
    }
   ],
   "source": [
    "pd.DataFrame(df[(df[\"Year\"] <= 2003) & (df[\"Year\"] >= 2001)].groupby(\"State\")[\"K&A\"].sum()).idxmin()\n"
   ]
  },
  {
   "cell_type": "markdown",
   "id": "5acec4fd-f740-49a8-a5d8-562d358239c9",
   "metadata": {},
   "source": [
    "5. Перечислите районы в которых наблюдались наиболее частые случае домашнего насилия за период с 2005 по 2012 года"
   ]
  },
  {
   "cell_type": "code",
   "execution_count": 20,
   "id": "cac8daef-f4e8-4c8b-b7f4-d41a6adf35ed",
   "metadata": {},
   "outputs": [
    {
     "data": {
      "text/plain": [
       "404    West Bengal\n",
       "368    West Bengal\n",
       "333    WEST BENGAL\n",
       "299    WEST BENGAL\n",
       "265    WEST BENGAL\n",
       "Name: State, dtype: object"
      ]
     },
     "execution_count": 20,
     "metadata": {},
     "output_type": "execute_result"
    }
   ],
   "source": [
    "df[(df[\"Year\"] <= 2012) & (df[\"Year\"] >= 2005)].sort_values(by=\"DV\",ascending=False).head(5)[\"State\"]"
   ]
  },
  {
   "cell_type": "markdown",
   "id": "8d6171a9-0f75-4f3e-ac54-95d03d1f70b6",
   "metadata": {},
   "source": [
    "6. Выведите названия районов в порядке не возрастания случаев торговли женщинами за 2020 год"
   ]
  },
  {
   "cell_type": "code",
   "execution_count": 21,
   "id": "c64d0892-2fb8-4304-966c-5cbb32b03c0a",
   "metadata": {},
   "outputs": [
    {
     "data": {
      "text/plain": [
       "686            Sikkim\n",
       "674         Jharkhand\n",
       "677    Madhya Pradesh\n",
       "684            Punjab\n",
       "691       Uttarakhand\n",
       "Name: State, dtype: object"
      ]
     },
     "execution_count": 21,
     "metadata": {},
     "output_type": "execute_result"
    }
   ],
   "source": [
    "df[df[\"Year\"] == 2020].sort_values(by=\"WT\",ascending=False).head(5)[\"State\"]"
   ]
  },
  {
   "cell_type": "markdown",
   "id": "a24c2f59-eeaf-47fd-8224-1023d1a8edeb",
   "metadata": {},
   "source": [
    "Перейдем к следующему набору данных.\n",
    "\n",
    "Файл: `CustomerPurchasingBehaviors.csv`\n",
    "\n",
    "Этот набор данных содержит информацию о профилях клиентов и их покупательском поведении. Данные содержат столбцы, содержащие идентификатор пользователя, возраст, годовой доход, сумму покупки, показатель лояльности (в разбивке по классам), регион и частоту покупок. Он предназначен для анализа тенденций сегментации клиентов и лояльности и может быть использован для различных задач машинного обучения и анализа данных, связанных с поведением клиентов и исследованиями рынка.\n",
    "\n",
    "```\n",
    "user_id - ID клиента\n",
    "age - Возраст\n",
    "annual_income - Годовой доход клиента (в долларах США).\n",
    "purchase_amount - Общая сумма покупок, совершенных клиентом (в долларах США).\n",
    "loyalty_score - Показатель лояльности клиента (значение от 0 до 100).\n",
    "region - Регион, в котором проживает клиент (Север, Юг, Восток, Запад).\n",
    "purchase_frequency - Частота покупок клиентов (количество раз в год).\n",
    "```"
   ]
  },
  {
   "cell_type": "code",
   "execution_count": 22,
   "id": "7407fc92-f656-44b4-bc3a-b86d0a8664ea",
   "metadata": {},
   "outputs": [
    {
     "data": {
      "text/html": [
       "<div>\n",
       "<style scoped>\n",
       "    .dataframe tbody tr th:only-of-type {\n",
       "        vertical-align: middle;\n",
       "    }\n",
       "\n",
       "    .dataframe tbody tr th {\n",
       "        vertical-align: top;\n",
       "    }\n",
       "\n",
       "    .dataframe thead th {\n",
       "        text-align: right;\n",
       "    }\n",
       "</style>\n",
       "<table border=\"1\" class=\"dataframe\">\n",
       "  <thead>\n",
       "    <tr style=\"text-align: right;\">\n",
       "      <th></th>\n",
       "      <th>user_id</th>\n",
       "      <th>age</th>\n",
       "      <th>annual_income</th>\n",
       "      <th>purchase_amount</th>\n",
       "      <th>loyalty_score</th>\n",
       "      <th>region</th>\n",
       "      <th>purchase_frequency</th>\n",
       "    </tr>\n",
       "  </thead>\n",
       "  <tbody>\n",
       "    <tr>\n",
       "      <th>0</th>\n",
       "      <td>1</td>\n",
       "      <td>25</td>\n",
       "      <td>45000</td>\n",
       "      <td>200</td>\n",
       "      <td>4.5</td>\n",
       "      <td>North</td>\n",
       "      <td>12</td>\n",
       "    </tr>\n",
       "    <tr>\n",
       "      <th>1</th>\n",
       "      <td>2</td>\n",
       "      <td>34</td>\n",
       "      <td>55000</td>\n",
       "      <td>350</td>\n",
       "      <td>7.0</td>\n",
       "      <td>South</td>\n",
       "      <td>18</td>\n",
       "    </tr>\n",
       "    <tr>\n",
       "      <th>2</th>\n",
       "      <td>3</td>\n",
       "      <td>45</td>\n",
       "      <td>65000</td>\n",
       "      <td>500</td>\n",
       "      <td>8.0</td>\n",
       "      <td>West</td>\n",
       "      <td>22</td>\n",
       "    </tr>\n",
       "    <tr>\n",
       "      <th>3</th>\n",
       "      <td>4</td>\n",
       "      <td>22</td>\n",
       "      <td>30000</td>\n",
       "      <td>150</td>\n",
       "      <td>3.0</td>\n",
       "      <td>East</td>\n",
       "      <td>10</td>\n",
       "    </tr>\n",
       "    <tr>\n",
       "      <th>4</th>\n",
       "      <td>5</td>\n",
       "      <td>29</td>\n",
       "      <td>47000</td>\n",
       "      <td>220</td>\n",
       "      <td>4.8</td>\n",
       "      <td>North</td>\n",
       "      <td>13</td>\n",
       "    </tr>\n",
       "  </tbody>\n",
       "</table>\n",
       "</div>"
      ],
      "text/plain": [
       "   user_id  age  annual_income  purchase_amount  loyalty_score region  \\\n",
       "0        1   25          45000              200            4.5  North   \n",
       "1        2   34          55000              350            7.0  South   \n",
       "2        3   45          65000              500            8.0   West   \n",
       "3        4   22          30000              150            3.0   East   \n",
       "4        5   29          47000              220            4.8  North   \n",
       "\n",
       "   purchase_frequency  \n",
       "0                  12  \n",
       "1                  18  \n",
       "2                  22  \n",
       "3                  10  \n",
       "4                  13  "
      ]
     },
     "execution_count": 22,
     "metadata": {},
     "output_type": "execute_result"
    }
   ],
   "source": [
    "DATA_PATH = \"data/CustomerPurchasingBehaviors.csv\"\n",
    "df = pd.read_csv(DATA_PATH)\n",
    "df.head()"
   ]
  },
  {
   "cell_type": "markdown",
   "id": "1d447d6e-cfde-411c-9078-cd8f41f02d8b",
   "metadata": {},
   "source": [
    "8. Какой средний годовой доход у клиентов с уровнем лояльности больше 50 живущих на севере"
   ]
  },
  {
   "cell_type": "code",
   "execution_count": 76,
   "id": "b30df6b1-5eca-43da-a115-1c1a3cbfd899",
   "metadata": {},
   "outputs": [
    {
     "data": {
      "text/plain": [
       "60146.34146341463"
      ]
     },
     "execution_count": 76,
     "metadata": {},
     "output_type": "execute_result"
    }
   ],
   "source": [
    "df[(df[\"region\"] == \"North\") & (df[\"loyalty_score\"] > 5)][\"annual_income\"].mean()"
   ]
  },
  {
   "cell_type": "markdown",
   "id": "c41d5d99-65f7-4d17-82ae-971ec959f327",
   "metadata": {},
   "source": [
    "9. Выведите 25 и 75 перцентили уровня лоальности клиентов живущих на западе с частотой покупок более 20 раз в год"
   ]
  },
  {
   "cell_type": "code",
   "execution_count": 77,
   "id": "275bcc04-659b-4521-a9e5-200a5f4ef674",
   "metadata": {},
   "outputs": [
    {
     "data": {
      "text/plain": [
       "0.25    8.5\n",
       "0.75    9.2\n",
       "Name: loyalty_score, dtype: float64"
      ]
     },
     "execution_count": 77,
     "metadata": {},
     "output_type": "execute_result"
    }
   ],
   "source": [
    "df[(df[\"region\"] == \"West\") & (df[\"purchase_frequency\"] > 20)][\"loyalty_score\"].quantile([0.25, 0.75])"
   ]
  },
  {
   "cell_type": "markdown",
   "id": "a1f7a5c0-259c-4837-a5d1-2dfc05e7c13e",
   "metadata": {},
   "source": [
    "10. Отличается ли медианный возраст клиентов с уровнем лояльности более 70 и менее 10 для жителей Востока и Севера."
   ]
  },
  {
   "cell_type": "code",
   "execution_count": 78,
   "id": "a2da4d57-edb4-4179-8bee-3deda6cd00e6",
   "metadata": {},
   "outputs": [
    {
     "data": {
      "text/plain": [
       "False"
      ]
     },
     "execution_count": 78,
     "metadata": {},
     "output_type": "execute_result"
    }
   ],
   "source": [
    "df[((df[\"region\"] == \"East\") | (df[\"region\"] == \"North\")) & (df[\"loyalty_score\"] > 7)][\"age\"].median() == df[((df[\"region\"] == \"East\") | (df[\"region\"] == \"North\")) & (df[\"loyalty_score\"] < 1)][\"age\"].median()"
   ]
  },
  {
   "cell_type": "markdown",
   "id": "deb4ca3a-3d8a-4205-bee9-d26fd28638b2",
   "metadata": {},
   "source": [
    "### 3. Визуализация"
   ]
  },
  {
   "cell_type": "markdown",
   "id": "f8941ce1-cbf2-465a-b013-1b84aeb999ef",
   "metadata": {},
   "source": [
    "Используя библиотеки matplotlib/sns/plotly/pandas и набор данных представленный ранее визуализируйте"
   ]
  },
  {
   "cell_type": "code",
   "execution_count": 26,
   "id": "12bdf935",
   "metadata": {},
   "outputs": [],
   "source": [
    "import matplotlib.pyplot as plt"
   ]
  },
  {
   "cell_type": "markdown",
   "id": "5e98ce6f-8d02-4120-ad85-241494c038d6",
   "metadata": {},
   "source": [
    "1. Постройте диаграмму которая отражает средний уровень лояльности во всех регионах"
   ]
  },
  {
   "cell_type": "code",
   "execution_count": 27,
   "id": "664666b2-17b7-49dd-a3bd-c4be9361755d",
   "metadata": {},
   "outputs": [
    {
     "data": {
      "image/png": "[encoded data removed]",
      "text/plain": [
       "<Figure size 640x480 with 1 Axes>"
      ]
     },
     "metadata": {},
     "output_type": "display_data"
    }
   ],
   "source": [
    "rg_mean = df.groupby(\"region\")[\"loyalty_score\"].mean()\n",
    "plt.bar(\n",
    "    rg_mean.index,\n",
    "    rg_mean.to_list(),\n",
    ")\n",
    "\n",
    "plt.title('Средние значения лояльности по регионам')\n",
    "plt.xlabel('Район')\n",
    "\n",
    "plt.show()"
   ]
  },
  {
   "cell_type": "markdown",
   "id": "4c7500bb-36ca-4ea7-bc3c-4f15afbd4c41",
   "metadata": {},
   "source": [
    "2. Постройте гистограмму распределения зарплат клиентов на Севере."
   ]
  },
  {
   "cell_type": "code",
   "execution_count": 51,
   "id": "7325e7f8-5f00-4a82-8184-7064505f7ccd",
   "metadata": {},
   "outputs": [
    {
     "data": {
      "image/png": "[encoded data removed]",
      "text/plain": [
       "<Figure size 640x480 with 1 Axes>"
      ]
     },
     "metadata": {},
     "output_type": "display_data"
    }
   ],
   "source": [
    "north_salary = df[df[\"region\"] == \"North\"]\n",
    "plt.hist(north_salary[\"annual_income\"], bins = 15)\n",
    "plt.title('Распределение зарплат клиентов на Севере')\n",
    "plt.xlabel('Зарплата')\n",
    "plt.ylabel('Количество человек')\n",
    "plt.yticks(np.arange(0, 24, 2))\n",
    "plt.show()"
   ]
  },
  {
   "cell_type": "markdown",
   "id": "efdd0669-36e0-4708-ac6b-ad0d92881113",
   "metadata": {},
   "source": [
    "3. Сравните уровни зарплат людей на севере и юге."
   ]
  },
  {
   "cell_type": "code",
   "execution_count": 68,
   "id": "7504a170-04a1-4b86-924d-8d46be16fd3c",
   "metadata": {},
   "outputs": [
    {
     "data": {
      "text/plain": [
       "<BarContainer object of 2 artists>"
      ]
     },
     "execution_count": 68,
     "metadata": {},
     "output_type": "execute_result"
    },
    {
     "data": {
      "image/png": "[encoded data removed]",
      "text/plain": [
       "<Figure size 640x480 with 1 Axes>"
      ]
     },
     "metadata": {},
     "output_type": "display_data"
    }
   ],
   "source": [
    "\n",
    "north_data = df[df[\"region\"] == \"North\"]\n",
    "south_data = df[df[\"region\"] == \"South\"]\n",
    "\n",
    "# Расчет средних зарплат\n",
    "north_mean = north_data[\"annual_income\"].mean()\n",
    "south_mean = south_data[\"annual_income\"].mean()\n",
    "plt.bar(['Север', 'Юг'], [north_mean, south_mean])\n",
    "# plt.bar(data.index,\n",
    "#         data[\"annual_income\"])"
   ]
  },
  {
   "cell_type": "markdown",
   "id": "b5839a48-e992-45fc-81ee-59cb5aa79dda",
   "metadata": {},
   "source": [
    "4. Постройте box plot отображающий распределение уровня лояльности для людей до 20 лет, от 20 до 40, от 40 до 60 и старше 60 лет"
   ]
  },
  {
   "cell_type": "code",
   "execution_count": 81,
   "id": "1a942378-45ea-47a0-bac9-488960491613",
   "metadata": {},
   "outputs": [
    {
     "data": {
      "image/png": "[encoded data removed]",
      "text/plain": [
       "<Figure size 640x480 with 1 Axes>"
      ]
     },
     "metadata": {},
     "output_type": "display_data"
    }
   ],
   "source": [
    "df20 = df[df[\"age\"] < 20][\"loyalty_score\"]\n",
    "df2040 = df[(df[\"age\"] >= 20) & (df[\"age\"] < 40)][\"loyalty_score\"]\n",
    "df4060 = df[(df[\"age\"] >= 40) & (df[\"age\"] < 60)][\"loyalty_score\"]\n",
    "df60 = df[(df[\"age\"] >= 60)][\"loyalty_score\"]\n",
    "data = [df20, df2040, df4060, df60]\n",
    "labels = ['до 20', '20-40', '40-60', '60+']\n",
    "plt.boxplot(data,tick_labels=labels)\n",
    "plt.show()\n",
    "\n"
   ]
  },
  {
   "cell_type": "markdown",
   "id": "d4c97bef-bb64-43cc-a89f-7510174492ec",
   "metadata": {},
   "source": [
    "5. Визуализируйте зависимость частоты покупок от заработка"
   ]
  },
  {
   "cell_type": "code",
   "execution_count": null,
   "id": "a1f444af-3544-432c-8dc6-bb74d4cff272",
   "metadata": {},
   "outputs": [],
   "source": []
  },
  {
   "cell_type": "markdown",
   "id": "a2ab764c-8ac1-4c5a-93ad-8168b0eb4934",
   "metadata": {},
   "source": [
    "6. Визуализируйте как зависит сумма покупок от зарплаты клиента"
   ]
  },
  {
   "cell_type": "code",
   "execution_count": null,
   "id": "6449e306-fb6c-46d4-bcd8-b6b76fbf69d2",
   "metadata": {},
   "outputs": [],
   "source": []
  },
  {
   "cell_type": "markdown",
   "id": "16afdeec-8c90-4ed1-a599-e0b1343bbf5c",
   "metadata": {},
   "source": [
    "7. Придумайте как визуализировать зависимость между частотой покупок, суммой покупок и скором лояльности *\n",
    "\n",
    "\\* Задание на доп. балл"
   ]
  },
  {
   "cell_type": "code",
   "execution_count": null,
   "id": "e10d0cc7-a1ca-4204-a875-b1660e44618d",
   "metadata": {},
   "outputs": [],
   "source": []
  }
 ],
 "metadata": {
  "kernelspec": {
   "display_name": "Python 3 (ipykernel)",
   "language": "python",
   "name": "python3"
  },
  "language_info": {
   "codemirror_mode": {
    "name": "ipython",
    "version": 3
   },
   "file_extension": ".py",
   "mimetype": "text/x-python",
   "name": "python",
   "nbconvert_exporter": "python",
   "pygments_lexer": "ipython3",
   "version": "3.10.12"
  }
 },
 "nbformat": 4,
 "nbformat_minor": 5
}
